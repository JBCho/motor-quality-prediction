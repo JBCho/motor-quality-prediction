{
 "cells": [
  {
   "cell_type": "code",
   "execution_count": 3,
   "id": "11a0a087",
   "metadata": {},
   "outputs": [],
   "source": [
    "import numpy as np\n",
    "import pandas as pd"
   ]
  },
  {
   "cell_type": "code",
   "execution_count": 4,
   "id": "96b0bcce",
   "metadata": {},
   "outputs": [],
   "source": [
    "import os\n",
    "import sys\n",
    "import glob"
   ]
  },
  {
   "cell_type": "code",
   "execution_count": 42,
   "id": "9f8e9ae8",
   "metadata": {},
   "outputs": [],
   "source": [
    "from sklearn.model_selection import train_test_split\n",
    "from catboost import CatBoostClassifier\n",
    "from sklearn.metrics import accuracy_score\n",
    "import matplotlib.pyplot as plt"
   ]
  },
  {
   "cell_type": "code",
   "execution_count": 6,
   "id": "2a7a774d",
   "metadata": {},
   "outputs": [],
   "source": [
    "import warnings\n",
    "warnings.simplefilter(action='ignore', category=FutureWarning)\n",
    "import warnings\n",
    "warnings.filterwarnings(\"ignore\")"
   ]
  },
  {
   "cell_type": "code",
   "execution_count": 7,
   "id": "66290e3e",
   "metadata": {},
   "outputs": [],
   "source": [
    "DATA_ROOT_DIR = os.path.abspath('../data')\n",
    "DATABASE_DATA_DIR = os.path.join(DATA_ROOT_DIR,'Database')\n",
    "TEST_DATA_DIR = os.path.join(DATA_ROOT_DIR,'Test')\n",
    "OUTPUT_DATA_DIR = os.path.join(DATA_ROOT_DIR,'Output')\n",
    "\n",
    "files_DATABASE = glob.glob(os.path.join(DATABASE_DATA_DIR, 'Database.xlsx'))"
   ]
  },
  {
   "cell_type": "code",
   "execution_count": 8,
   "id": "0e96fb4e",
   "metadata": {},
   "outputs": [
    {
     "name": "stdout",
     "output_type": "stream",
     "text": [
      "Program is starting\n",
      " \n"
     ]
    }
   ],
   "source": [
    "print(\"Program is starting\")\n",
    "print(\" \")"
   ]
  },
  {
   "cell_type": "markdown",
   "id": "9ae26af4",
   "metadata": {},
   "source": [
    "# 함수 Definition"
   ]
  },
  {
   "cell_type": "code",
   "execution_count": 26,
   "id": "b1aa339e",
   "metadata": {},
   "outputs": [],
   "source": [
    "#현재 알고리즘의 Dictionary를 출력하는 함수\n",
    "def TIMES_ROUNDS_dictionary(df):\n",
    "    temp=df.set_index(['TIMES','ROUNDS'])\n",
    "    set_temp=list(temp.index.unique())\n",
    "    dictionary=dict()\n",
    "    for i in range(len(set_temp)):\n",
    "                dictionary[i]=set_temp[i]\n",
    "    return dictionary"
   ]
  },
  {
   "cell_type": "code",
   "execution_count": 27,
   "id": "489dfbda",
   "metadata": {},
   "outputs": [],
   "source": [
    "#Database의 데이터로 알고리즘을 학습시키는 함수\n",
    "#입력: database, dictionary\n",
    "#출력: 학습한 catboost 모델 저장\n",
    "def catboost_model(df, dictionary):\n",
    "    \n",
    "    #예측을 위한 임시적인 새로운 칼럼 생성\n",
    "    print(\"모델 생성을 위한 데이터베이스 전처리\")\n",
    "    df['TIMES_ROUNDS']=-1\n",
    "    for i in range(len(df)):\n",
    "        for j in range(len(dictionary)):\n",
    "            if tuple(df[['TIMES','ROUNDS']].iloc[i])==dictionary[j]:\n",
    "                df.at[i,'TIMES_ROUNDS']=j\n",
    "                break\n",
    "    \n",
    "    #데이터 갯수가 3개 이하인거는 제외하고 학습을 시켜야함(validation에 unique 데이터가 들어가는 것을 방지하기 위해서)\n",
    "    temp=df.groupby(['TIMES_ROUNDS']).count()\n",
    "\n",
    "    #데이터 갯수가 3개 이하인 TIMES_ROUNDS 값 리스트\n",
    "    drop_values=list(temp[temp['MAT_NAME']<=3].index)\n",
    "    drop_values\n",
    "\n",
    "    #drop할 인덱스들의 리스트 생성\n",
    "    drop_list=[]\n",
    "    for i in range(len(drop_values)):\n",
    "        drop_list.extend(list(df.loc[(df['TIMES_ROUNDS']==drop_values[i])].index))\n",
    "    print(drop_list)\n",
    "\n",
    "    df.drop(drop_list,axis='index',inplace=True)            \n",
    "                \n",
    "    \n",
    "    #train_test_split\n",
    "    train_set, non_train_set = train_test_split(df, test_size=0.2, random_state=20)\n",
    "    test_set, valid_set = train_test_split(non_train_set, test_size=0.5, random_state=20)\n",
    "\n",
    "    y_train = train_set['TIMES_ROUNDS']\n",
    "    train_set.drop(['TIMES_ROUNDS','TIMES','ROUNDS'], axis=1, inplace=True)\n",
    "    y_valid = valid_set['TIMES_ROUNDS']\n",
    "    valid_set.drop(['TIMES_ROUNDS','TIMES','ROUNDS'], axis=1, inplace=True)\n",
    "    y_test = test_set['TIMES_ROUNDS']\n",
    "    test_set.drop(['TIMES_ROUNDS','TIMES','ROUNDS'], axis=1, inplace=True)\n",
    "\n",
    "    #Classifier만들기\n",
    "    catboost = CatBoostClassifier(iterations=50)\n",
    "\n",
    "    #훈련데이터에 fitting\n",
    "    catboost.fit(train_set, y_train, cat_features=['DEV_STYLE_NUMBER','PROCESS','PRT_PART_NAME','MAT_NAME','PRT_NAME','PRT_COLOR','CHEMICALS','GRAD'],\n",
    "                 eval_set=(valid_set, y_valid))\n",
    "\n",
    "    #test dataset을 이용한 정확도 평가\n",
    "    pred=catboost.predict(test_set)\n",
    "    print('예측 정확도:',accuracy_score(y_test,pred))\n",
    "\n",
    "\n",
    "    #fitting 된 model을 폴더에 저장\n",
    "    catboost.save_model(os.path.join(OUTPUT_DATA_DIR,'Model/catboost_TIMES_ROUNDS'),format=\"cbm\")"
   ]
  },
  {
   "cell_type": "code",
   "execution_count": 28,
   "id": "0532c2d9",
   "metadata": {},
   "outputs": [],
   "source": [
    "#Test할 데이터의 기본적인 전처리를 하는 함수\n",
    "def data_preprocess(df, features):\n",
    "    \n",
    "    #컬럼마가 다르게 NULL값 처리\n",
    "\n",
    "    #(Char)'MAT_NAME','PRT_NAME','PROCESS','PRT_PART_NAME','CHEMICALS','DEV_STYLE_NUMBER'\n",
    "    if set(['MAT_NAME','PRT_NAME','PROCESS','PRT_PART_NAME','CHEMICALS','DEV_STYLE_NUMBER']).issubset(df.columns):\n",
    "        df[['MAT_NAME','PRT_NAME','PROCESS','PRT_PART_NAME','CHEMICALS','DEV_STYLE_NUMBER']]= df[['MAT_NAME','PRT_NAME','PROCESS','PRT_PART_NAME','CHEMICALS','DEV_STYLE_NUMBER']].fillna('NO_DATA')\n",
    "    #(Char)'PRT_COLOR'\n",
    "    if 'PRT_COLOR' in df:\n",
    "        df['PRT_COLOR']=df['PRT_COLOR'].fillna('NO_COLOR')\n",
    "    #(int)'GRAD','TIMES'\n",
    "    if 'TIMES' in df:\n",
    "        df['TIMES']=df['TIMES'].fillna(0)\n",
    "    if 'GRAD' in df:\n",
    "        df['GRAD']=df['GRAD'].fillna(0)\n",
    "    #(int)'ROUNDS'\n",
    "    if 'ROUNDS' in df:\n",
    "        df['ROUNDS']=df['ROUNDS'].fillna(1)\n",
    "\n",
    "    #전부 대문자로 통일, 빈칸 지우기\n",
    "    input_features=features[:4]\n",
    "    df[input_features] = df[input_features].applymap(string_preprocess)\n",
    "\n",
    "    #더이상 사용되지 않는 PROCESS 제거\n",
    "    #df=df[df.PROCESS!='POP CLEAR SCREEN PRINT']\n",
    "    #df=df[df.PROCESS!='PRIMER']\n",
    "\n",
    "    #PROCESS이름이 RULE과 다른 경우 교체\n",
    "    df.loc[df['PROCESS']=='A-BOND','PROCESS']='A-BOND SCREEN PRINT'\n",
    "    df.loc[df['PROCESS']=='U-BOND','PROCESS']='U-BOND SCREEN PRINT'\n",
    "    df.loc[df['PROCESS']=='3D CLEAR(WG-100 12%) SCREEN PRINT','PROCESS']='3D CLEAR SCREEN PRINT'\n",
    "    df.loc[df['PROCESS']=='TOP GLOSSY SCREEN PRINT','PROCESS']='TOP GLOSSY CLEAR SCREEN PRINT'\n",
    "    df.loc[df['PROCESS']=='HD CLEAR SCREEN PRINT','PROCESS']='HD.CLEAR SCREEN PRINT'\n",
    "    df.loc[df['PROCESS']=='3D PUFF SCREEN PRINT','PROCESS']='3D CLEAR SCREEN PRINT'\n",
    "    \n",
    "    #str, int 섞여있는경우 str으로 통일\n",
    "    df = df.astype({'DEV_STYLE_NUMBER':'str'})\n",
    "    \n",
    "    #index 순서대로\n",
    "    df=df.reset_index(drop=True)\n",
    "\n",
    "    return df"
   ]
  },
  {
   "cell_type": "code",
   "execution_count": 29,
   "id": "6cb9e73c",
   "metadata": {},
   "outputs": [],
   "source": [
    "def string_preprocess(s):\n",
    "    s=str(s).upper()\n",
    "    s_split=s.split()\n",
    "    s_split = [x for x in s_split if not str(x).isdigit()]\n",
    "    s=' '.join(s_split)\n",
    "    return s"
   ]
  },
  {
   "cell_type": "code",
   "execution_count": 30,
   "id": "44856142",
   "metadata": {},
   "outputs": [],
   "source": [
    "#입력: Test할 데이터프레임과 현재 알고싶은 행의 인덱스 i\n",
    "#출력: 데이터베이스에서의 위치 혹은 없을 경우 -1\n",
    "def search_database(database, df,i):\n",
    "    #데이터 베이스와 비교할 칼럼과 그 결과를 기록할 칼럼 생성\n",
    "    compare_col=['DEV_STYLE_NUMBER','PROCESS','PRT_PART_NAME','MAT_NAME','PRT_NAME','PRT_COLOR','CHEMICALS','GRAD']\n",
    "    \n",
    "    #찾고싶은 행을 데이터베이스의 하단에 추가\n",
    "    temp=database.append(df[compare_col].loc[i])\n",
    "    if len(temp[temp.duplicated(compare_col,keep=False)])!=0:  #동일한게 있으면 \n",
    "        location=temp[temp.duplicated(compare_col,keep=False)].index[0] #location은 데이터베이스에서 자신과 같은 행의 위치\n",
    "        return location\n",
    "    else:\n",
    "        return -1"
   ]
  },
  {
   "cell_type": "code",
   "execution_count": 31,
   "id": "ebe9e916",
   "metadata": {},
   "outputs": [],
   "source": [
    "#Catboost를 이용한 예측\n",
    "#입력: 기존에 없던 TEST 데이터프레임, dictionary\n",
    "#출력: 예측을 완료한 데이터프레임\n",
    "def prediction_catboost(dictionary,df):\n",
    "    \n",
    "    #기존에 학습한 Catboost 모델 가져오기\n",
    "    Catboost_model=CatBoostClassifier(iterations=50, random_state=24)\n",
    "    Catboost_model.load_model( os.path.join(OUTPUT_DATA_DIR ,'Model/catboost_TIMES_ROUNDS'),format=\"cbm\")\n",
    "    \n",
    "    #dictionary의 결과로 나오도록 Catboost모델 이용하여 예측\n",
    "    features=['DEV_STYLE_NUMBER','PROCESS','PRT_PART_NAME','MAT_NAME','PRT_NAME','PRT_COLOR','CHEMICALS','GRAD']\n",
    "    y_pred_TIMES_ROUNDS=Catboost_model.predict(pred_set[features]).reshape(-1)\n",
    "    result=list(y_pred_TIMES_ROUNDS)\n",
    "\n",
    "    #dictionary의 결과를 각각 PRED_TIMES, PRED_ROUNDS로 옮기기\n",
    "    \n",
    "    df['TIMES_ROUND'] = df[['TIMES','ROUNDS']].T.apply(lambda x: dictionary[(x[0], x[1])])\n",
    "    return df"
   ]
  },
  {
   "cell_type": "code",
   "execution_count": 32,
   "id": "0b391808",
   "metadata": {},
   "outputs": [],
   "source": [
    "#데이터베이스 검색을 이용한 예측\n",
    "#입력: 기존 데이터베이스에 있는 TEST 데이터\n",
    "def prediction_database(database, df):\n",
    "    for i in list(df.index):\n",
    "        database_idx=int(df['location'].loc[i]) #database index 값 찾기\n",
    "        df.loc[i,'PRED_TIMES']=database.loc[database_idx,'TIMES']\n",
    "        df.loc[i,'PRED_ROUNDS']=database.loc[database_idx,'ROUNDS']\n",
    "    return df"
   ]
  },
  {
   "cell_type": "code",
   "execution_count": 33,
   "id": "92a3f81e",
   "metadata": {},
   "outputs": [],
   "source": [
    "#Test 데이터에서 Feature이같은데 TIMES, ROUNDS가 다른 데이터를 걸러내는 함수\n",
    "#def Test_data_inspection(df):\n",
    "#    df[df.duplicated(['DEV_STYLE_NUMBER','PROCESS','PRT_PART_NAME','MAT_NAME','PRT_NAME','PRT_COLOR','CHEMICALS','GRAD'],keep=False)]\n",
    "#    df=df.drop_duplicates(['DEV_STYLE_NUMBER','PROCESS','PRT_PART_NAME','MAT_NAME','PRT_NAME','PRT_COLOR','CHEMICALS','GRAD'],keep='first')   "
   ]
  },
  {
   "cell_type": "markdown",
   "id": "c8e36e8a",
   "metadata": {},
   "source": [
    "# Main"
   ]
  },
  {
   "cell_type": "code",
   "execution_count": 34,
   "id": "f17d2617",
   "metadata": {},
   "outputs": [],
   "source": [
    "#Databse폴더에서 데이터베이스 읽어오기\n",
    "xls = pd.ExcelFile(files_DATABASE[0],engine='openpyxl')\n",
    "database = xls.parse('Sheet1',header=0)\n",
    "\n",
    "#Database 전처리\n",
    "database=database.fillna('None')\n",
    "database=database.drop_duplicates(['DEV_STYLE_NUMBER','PROCESS','PRT_PART_NAME','MAT_NAME','PRT_NAME','PRT_COLOR','CHEMICALS','GRAD'],keep='first')"
   ]
  },
  {
   "cell_type": "code",
   "execution_count": 35,
   "id": "201f4a5f",
   "metadata": {},
   "outputs": [],
   "source": [
    "#Database데이터의 TIMES,ROUNDS를 한쌍으로 만들어서 Dictionary로 만들기\n",
    "dictionary=TIMES_ROUNDS_dictionary(database)"
   ]
  },
  {
   "cell_type": "code",
   "execution_count": 36,
   "id": "0138d4d7",
   "metadata": {
    "scrolled": true
   },
   "outputs": [
    {
     "data": {
      "text/plain": [
       "{0: (2, 1),\n",
       " 1: (3, 3),\n",
       " 2: (4, 4),\n",
       " 3: (12, 6),\n",
       " 4: (4, 2),\n",
       " 5: (2, 2),\n",
       " 6: (1, 1),\n",
       " 7: (0, 1),\n",
       " 8: (0, 6),\n",
       " 9: (16, 8),\n",
       " 10: (7, 7),\n",
       " 11: (5, 5),\n",
       " 12: (6, 3),\n",
       " 13: (8, 4),\n",
       " 14: (10, 5),\n",
       " 15: (0, 4),\n",
       " 16: (24, 12),\n",
       " 17: (6, 6),\n",
       " 18: (0, 3),\n",
       " 19: (3, 6),\n",
       " 20: (6, 4),\n",
       " 21: (2, 4),\n",
       " 22: (0, 2),\n",
       " 23: (4, 3),\n",
       " 24: (12, 4),\n",
       " 25: (6, 12)}"
      ]
     },
     "execution_count": 36,
     "metadata": {},
     "output_type": "execute_result"
    }
   ],
   "source": [
    "dictionary"
   ]
  },
  {
   "cell_type": "code",
   "execution_count": 66,
   "id": "de46ba15",
   "metadata": {},
   "outputs": [
    {
     "name": "stdout",
     "output_type": "stream",
     "text": [
      "원하는 작업의 번호를 입력하고 Enter를 입력하세요.\n",
      "\n",
      "1.TIMES,ROUNDS 예측 \n",
      "2.모델 Update \n",
      "3.프로그램 종료 \n",
      "\n",
      "번호를 입력하세요:3\n"
     ]
    }
   ],
   "source": [
    "while True:\n",
    "    state=input(\"원하는 작업의 번호를 입력하고 Enter를 입력하세요.\\n\\n1.TIMES,ROUNDS 예측 \\n2.모델 Update \\n3.프로그램 종료 \\n\\n번호를 입력하세요:\")\n",
    "    \n",
    "    if state=='1':\n",
    "        #Test 데이터에 대해 예측\n",
    "\n",
    "        print(\"\\n\")\n",
    "        print(\"<작업로그>\")\n",
    "        #Test 데이터 불러오기\n",
    "        filename=os.listdir(TEST_DATA_DIR)[0]\n",
    "        xls = pd.ExcelFile(os.path.join(TEST_DATA_DIR,filename),engine='openpyxl')\n",
    "        df = xls.parse('Sheet1',header=0)\n",
    "        df.head()\n",
    "\n",
    "        #Test 데이터 전처리\n",
    "        print(\"Test 데이터 전처리 진행중\")\n",
    "        features=['DEV_STYLE_NUMBER','PROCESS','PRT_PART_NAME','MAT_NAME','PRT_NAME','PRT_COLOR','CHEMICALS','GRAD','TIMES','ROUNDS']\n",
    "        df=data_preprocess(df, features)\n",
    "\n",
    "        #PRED_TIMES, PRED_ROUNDS, location칼럼 추가\n",
    "        df.insert(list(df.columns).index('TIMES'),'PRED_TIMES',-1)\n",
    "        df.insert(list(df.columns).index('TIMES'),'PRED_ROUNDS',-1)\n",
    "        df['location']=-1\n",
    "\n",
    "        #데이터 베이스에 있는지 없는지 확인\n",
    "        print(\"데이터베이스 기록 확인 진행중\")\n",
    "        print(\"이 과정은 시간이 소요됩니다. 잠시만 기다려주십시오.\")\n",
    "        for i in range(len(df)):\n",
    "            df.loc[i,'location']=search_database(database, df,i)\n",
    "\n",
    "        #있는건 데이터 베이스에서 찾아서\n",
    "        search_set=df[df['location']!=-1]\n",
    "        #search_set=prediction_database(database, search_set)\n",
    "        search_set=prediction_database(dictionary, search_set)\n",
    "\n",
    "        #없는건 Catboost로 예측해서\n",
    "        pred_set=df[df['location']==-1]\n",
    "        pred_set=prediction_catboost(dictionary, pred_set)\n",
    "\n",
    "        #두개 합치기\n",
    "        #location 없애기\n",
    "        final=pd.concat([pred_set,search_set]).sort_index()\n",
    "        final.drop(columns=['location'],axis=1,inplace=True)\n",
    "        \n",
    "        #최종 예측 완료 파일 엑셀로 저장\n",
    "        print(\"예측완료 파일 저장\")\n",
    "        final.to_excel(os.path.join(OUTPUT_DATA_DIR,'Final.xlsx'),index=False,engine='openpyxl')      \n",
    "        \n",
    "        #있는데 틀린거에 대해서 데이터베이스를 업데이트 해주는 함수\n",
    "        print(\"기존에 존재하는 데이터베이스 업데이트 중\")\n",
    "        temp=search_set[(search_set['PRED_TIMES']!=search_set['TIMES']) | (search_set['PRED_ROUNDS']!=search_set['ROUNDS'])]\n",
    "        for i in list(temp.index):\n",
    "            database_idx=temp.loc[i,'location']\n",
    "            database.loc[database_idx,'TIMES']=temp.loc[i,'TIMES']\n",
    "            database.loc[database_idx,'ROUNDS']=temp.loc[i,'ROUNDS']\n",
    "        temp.to_excel(os.path.join(OUTPUT_DATA_DIR,'Search_update.xlsx'),index=False,engine='openpyxl')\n",
    "        \n",
    "        #없는데 틀린것에 대해서 데이터베이스에 추가 해주는 함수\n",
    "        print(\"새로 추가된 데이터를 데이터베이스에 업데이트 중\")\n",
    "        temp=pred_set[(pred_set['PRED_TIMES']!=pred_set['TIMES']) | (pred_set['PRED_ROUNDS']!=pred_set['ROUNDS'])]\n",
    "        temp=temp.drop_duplicates(features,keep='first')\n",
    "        temp=temp[['DEV_STYLE_NUMBER','PROCESS','PRT_PART_NAME','MAT_NAME','PRT_NAME','PRT_COLOR','CHEMICALS','GRAD','TIMES','ROUNDS']]\n",
    "        temp.to_excel(os.path.join(OUTPUT_DATA_DIR,'Predict_update.xlsx'),index=False,engine='openpyxl')\n",
    "        database=pd.concat([database,temp],ignore_index=True)\n",
    "        \n",
    "        #데이터베이스 최종 업데이트\n",
    "        database.to_excel(files_DATABASE[0],index=False,engine='openpyxl')\n",
    "        \n",
    "        print(\"TIMES,ROUNDS 예측이 완료되었습니다.\")\n",
    "        print(\"------------------------------------------\")\n",
    "        \n",
    "    elif state=='2':\n",
    "        #Database로 부터 모델 생성\n",
    "        catboost_model(database, dictionary)\n",
    "        \n",
    "    elif state=='3':\n",
    "        #프로그램 종료\n",
    "        break\n",
    "    else:\n",
    "        print(\"잘못된 번호가 삽입 되었습니다. 다시 입력해주세요:\")"
   ]
  }
 ],
 "metadata": {
  "kernelspec": {
   "display_name": "Python 3 (ipykernel)",
   "language": "python",
   "name": "python3"
  },
  "language_info": {
   "codemirror_mode": {
    "name": "ipython",
    "version": 3
   },
   "file_extension": ".py",
   "mimetype": "text/x-python",
   "name": "python",
   "nbconvert_exporter": "python",
   "pygments_lexer": "ipython3",
   "version": "3.9.7"
  },
  "toc": {
   "base_numbering": 1,
   "nav_menu": {},
   "number_sections": true,
   "sideBar": true,
   "skip_h1_title": false,
   "title_cell": "Table of Contents",
   "title_sidebar": "Contents",
   "toc_cell": false,
   "toc_position": {},
   "toc_section_display": true,
   "toc_window_display": false
  },
  "varInspector": {
   "cols": {
    "lenName": 16,
    "lenType": 16,
    "lenVar": 40
   },
   "kernels_config": {
    "python": {
     "delete_cmd_postfix": "",
     "delete_cmd_prefix": "del ",
     "library": "var_list.py",
     "varRefreshCmd": "print(var_dic_list())"
    },
    "r": {
     "delete_cmd_postfix": ") ",
     "delete_cmd_prefix": "rm(",
     "library": "var_list.r",
     "varRefreshCmd": "cat(var_dic_list()) "
    }
   },
   "types_to_exclude": [
    "module",
    "function",
    "builtin_function_or_method",
    "instance",
    "_Feature"
   ],
   "window_display": false
  }
 },
 "nbformat": 4,
 "nbformat_minor": 5
}
